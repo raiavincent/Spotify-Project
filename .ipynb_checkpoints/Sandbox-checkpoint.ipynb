{
 "cells": [
  {
   "cell_type": "code",
   "execution_count": 1,
   "id": "b34b1460",
   "metadata": {},
   "outputs": [],
   "source": [
    "import spotipy\n",
    "from spotipy.oauth2 import SpotifyOAuth\n",
    "import cred\n",
    "scope = \"user-read-currently-playing\"\n",
    "\n",
    "sp = spotipy.Spotify(auth_manager=SpotifyOAuth(client_id=cred.client_ID, client_secret= cred.client_SECRET, redirect_uri=cred.redirect_url, scope=scope))"
   ]
  },
  {
   "cell_type": "code",
   "execution_count": 2,
   "id": "8beb8b4f",
   "metadata": {},
   "outputs": [],
   "source": [
    "scope = 'user-read-currently-playing'"
   ]
  },
  {
   "cell_type": "code",
   "execution_count": 3,
   "id": "2137dc6a",
   "metadata": {},
   "outputs": [
    {
     "data": {
      "text/plain": [
       "{'display_name': 'Vincent Raia',\n",
       " 'external_urls': {'spotify': 'https://open.spotify.com/user/12130136554'},\n",
       " 'followers': {'href': None, 'total': 9},\n",
       " 'href': 'https://api.spotify.com/v1/users/12130136554',\n",
       " 'id': '12130136554',\n",
       " 'images': [{'height': None,\n",
       "   'url': 'https://scontent-ort2-2.xx.fbcdn.net/v/t1.6435-1/c0.53.320.320a/p320x320/39502601_2045329955478121_7146975663881191424_n.jpg?_nc_cat=110&ccb=1-3&_nc_sid=0c64ff&_nc_ohc=qSBAqKM4G8AAX-mfvKJ&_nc_oc=AQm4N7bEHHbg4pVvT9Jx7AMVr6j7m2cNVldHXh00cFUh83av1Hub62koQBYueh7TISE&_nc_ht=scontent-ort2-2.xx&tp=27&oh=3cb7e2d52cc1259d0cb3eb20a6f9cea7&oe=60E2C35E',\n",
       "   'width': None}],\n",
       " 'type': 'user',\n",
       " 'uri': 'spotify:user:12130136554'}"
      ]
     },
     "execution_count": 3,
     "metadata": {},
     "output_type": "execute_result"
    }
   ],
   "source": [
    "sp.current_user()"
   ]
  },
  {
   "cell_type": "code",
   "execution_count": 4,
   "id": "29ac8f29",
   "metadata": {
    "scrolled": true
   },
   "outputs": [
    {
     "name": "stdout",
     "output_type": "stream",
     "text": [
      "None\n"
     ]
    }
   ],
   "source": [
    "current = sp.current_user_playing_track()\n",
    "print(current)"
   ]
  },
  {
   "cell_type": "code",
   "execution_count": 8,
   "id": "e955d65f",
   "metadata": {},
   "outputs": [
    {
     "name": "stdout",
     "output_type": "stream",
     "text": [
      "Nothing playing.\n"
     ]
    }
   ],
   "source": [
    "if current == None:\n",
    "    print('Nothing playing.')\n",
    "else:\n",
    "    song = current.get('item').get('album').get('name')\n",
    "        print(song)"
   ]
  },
  {
   "cell_type": "code",
   "execution_count": 9,
   "id": "f2dd8797",
   "metadata": {},
   "outputs": [
    {
     "ename": "AttributeError",
     "evalue": "'NoneType' object has no attribute 'get'",
     "output_type": "error",
     "traceback": [
      "\u001b[1;31m---------------------------------------------------------------------------\u001b[0m",
      "\u001b[1;31mAttributeError\u001b[0m                            Traceback (most recent call last)",
      "\u001b[1;32m<ipython-input-9-7a6009c019cf>\u001b[0m in \u001b[0;36m<module>\u001b[1;34m\u001b[0m\n\u001b[1;32m----> 1\u001b[1;33m \u001b[0martist_list\u001b[0m \u001b[1;33m=\u001b[0m \u001b[0mcurrent\u001b[0m\u001b[1;33m.\u001b[0m\u001b[0mget\u001b[0m\u001b[1;33m(\u001b[0m\u001b[1;34m'item'\u001b[0m\u001b[1;33m)\u001b[0m\u001b[1;33m.\u001b[0m\u001b[0mget\u001b[0m\u001b[1;33m(\u001b[0m\u001b[1;34m'album'\u001b[0m\u001b[1;33m)\u001b[0m\u001b[1;33m.\u001b[0m\u001b[0mget\u001b[0m\u001b[1;33m(\u001b[0m\u001b[1;34m'artists'\u001b[0m\u001b[1;33m)\u001b[0m\u001b[1;33m\u001b[0m\u001b[1;33m\u001b[0m\u001b[0m\n\u001b[0m\u001b[0;32m      2\u001b[0m \u001b[0martist_dict\u001b[0m \u001b[1;33m=\u001b[0m \u001b[0martist_list\u001b[0m\u001b[1;33m[\u001b[0m\u001b[1;36m0\u001b[0m\u001b[1;33m]\u001b[0m\u001b[1;33m\u001b[0m\u001b[1;33m\u001b[0m\u001b[0m\n\u001b[0;32m      3\u001b[0m \u001b[1;31m# print(artist_dict)\u001b[0m\u001b[1;33m\u001b[0m\u001b[1;33m\u001b[0m\u001b[1;33m\u001b[0m\u001b[0m\n\u001b[0;32m      4\u001b[0m \u001b[0martist\u001b[0m \u001b[1;33m=\u001b[0m \u001b[0martist_dict\u001b[0m\u001b[1;33m.\u001b[0m\u001b[0mget\u001b[0m\u001b[1;33m(\u001b[0m\u001b[1;34m'name'\u001b[0m\u001b[1;33m)\u001b[0m\u001b[1;33m\u001b[0m\u001b[1;33m\u001b[0m\u001b[0m\n\u001b[0;32m      5\u001b[0m \u001b[0mprint\u001b[0m\u001b[1;33m(\u001b[0m\u001b[0martist\u001b[0m\u001b[1;33m)\u001b[0m\u001b[1;33m\u001b[0m\u001b[1;33m\u001b[0m\u001b[0m\n",
      "\u001b[1;31mAttributeError\u001b[0m: 'NoneType' object has no attribute 'get'"
     ]
    }
   ],
   "source": [
    "if current == None:\n",
    "\n",
    "artist_list = current.get('item').get('album').get('artists')\n",
    "artist_dict = artist_list[0]\n",
    "# print(artist_dict)\n",
    "artist = artist_dict.get('name')\n",
    "print(artist)"
   ]
  },
  {
   "cell_type": "code",
   "execution_count": null,
   "id": "2773e53c",
   "metadata": {},
   "outputs": [],
   "source": [
    "for key, value in current.items():\n",
    "    print(key, ' : ', value, '\\n')"
   ]
  },
  {
   "cell_type": "code",
   "execution_count": null,
   "id": "b86e9bb5",
   "metadata": {},
   "outputs": [],
   "source": []
  }
 ],
 "metadata": {
  "kernelspec": {
   "display_name": "Python 3",
   "language": "python",
   "name": "python3"
  },
  "language_info": {
   "codemirror_mode": {
    "name": "ipython",
    "version": 3
   },
   "file_extension": ".py",
   "mimetype": "text/x-python",
   "name": "python",
   "nbconvert_exporter": "python",
   "pygments_lexer": "ipython3",
   "version": "3.8.10"
  }
 },
 "nbformat": 4,
 "nbformat_minor": 5
}

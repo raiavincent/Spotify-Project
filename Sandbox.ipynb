{
 "cells": [
  {
   "cell_type": "code",
   "execution_count": 48,
   "id": "b34b1460",
   "metadata": {},
   "outputs": [
    {
     "name": "stderr",
     "output_type": "stream",
     "text": [
      "HTTP Error for GET to https://api.spotify.com/v1/me/player/recently-played returned 403 due to Insufficient client scope\n"
     ]
    },
    {
     "ename": "SpotifyException",
     "evalue": "http status: 403, code:-1 - https://api.spotify.com/v1/me/player/recently-played?limit=50:\n Insufficient client scope, reason: None",
     "output_type": "error",
     "traceback": [
      "\u001b[1;31m---------------------------------------------------------------------------\u001b[0m",
      "\u001b[1;31mHTTPError\u001b[0m                                 Traceback (most recent call last)",
      "\u001b[1;32m~\\anaconda3\\envs\\spotify_project\\lib\\site-packages\\spotipy\\client.py\u001b[0m in \u001b[0;36m_internal_call\u001b[1;34m(self, method, url, payload, params)\u001b[0m\n\u001b[0;32m    244\u001b[0m \u001b[1;33m\u001b[0m\u001b[0m\n\u001b[1;32m--> 245\u001b[1;33m             \u001b[0mresponse\u001b[0m\u001b[1;33m.\u001b[0m\u001b[0mraise_for_status\u001b[0m\u001b[1;33m(\u001b[0m\u001b[1;33m)\u001b[0m\u001b[1;33m\u001b[0m\u001b[1;33m\u001b[0m\u001b[0m\n\u001b[0m\u001b[0;32m    246\u001b[0m             \u001b[0mresults\u001b[0m \u001b[1;33m=\u001b[0m \u001b[0mresponse\u001b[0m\u001b[1;33m.\u001b[0m\u001b[0mjson\u001b[0m\u001b[1;33m(\u001b[0m\u001b[1;33m)\u001b[0m\u001b[1;33m\u001b[0m\u001b[1;33m\u001b[0m\u001b[0m\n",
      "\u001b[1;32m~\\anaconda3\\envs\\spotify_project\\lib\\site-packages\\requests\\models.py\u001b[0m in \u001b[0;36mraise_for_status\u001b[1;34m(self)\u001b[0m\n\u001b[0;32m    942\u001b[0m         \u001b[1;32mif\u001b[0m \u001b[0mhttp_error_msg\u001b[0m\u001b[1;33m:\u001b[0m\u001b[1;33m\u001b[0m\u001b[1;33m\u001b[0m\u001b[0m\n\u001b[1;32m--> 943\u001b[1;33m             \u001b[1;32mraise\u001b[0m \u001b[0mHTTPError\u001b[0m\u001b[1;33m(\u001b[0m\u001b[0mhttp_error_msg\u001b[0m\u001b[1;33m,\u001b[0m \u001b[0mresponse\u001b[0m\u001b[1;33m=\u001b[0m\u001b[0mself\u001b[0m\u001b[1;33m)\u001b[0m\u001b[1;33m\u001b[0m\u001b[1;33m\u001b[0m\u001b[0m\n\u001b[0m\u001b[0;32m    944\u001b[0m \u001b[1;33m\u001b[0m\u001b[0m\n",
      "\u001b[1;31mHTTPError\u001b[0m: 403 Client Error: Forbidden for url: https://api.spotify.com/v1/me/player/recently-played?limit=50",
      "\nDuring handling of the above exception, another exception occurred:\n",
      "\u001b[1;31mSpotifyException\u001b[0m                          Traceback (most recent call last)",
      "\u001b[1;32m<ipython-input-48-d68569aa3b0c>\u001b[0m in \u001b[0;36m<module>\u001b[1;34m\u001b[0m\n\u001b[0;32m      6\u001b[0m \u001b[0msp\u001b[0m \u001b[1;33m=\u001b[0m \u001b[0mspotipy\u001b[0m\u001b[1;33m.\u001b[0m\u001b[0mSpotify\u001b[0m\u001b[1;33m(\u001b[0m\u001b[0mauth_manager\u001b[0m\u001b[1;33m=\u001b[0m\u001b[0mSpotifyOAuth\u001b[0m\u001b[1;33m(\u001b[0m\u001b[0mclient_id\u001b[0m\u001b[1;33m=\u001b[0m\u001b[0mcred\u001b[0m\u001b[1;33m.\u001b[0m\u001b[0mclient_ID\u001b[0m\u001b[1;33m,\u001b[0m \u001b[0mclient_secret\u001b[0m\u001b[1;33m=\u001b[0m \u001b[0mcred\u001b[0m\u001b[1;33m.\u001b[0m\u001b[0mclient_SECRET\u001b[0m\u001b[1;33m,\u001b[0m \u001b[0mredirect_uri\u001b[0m\u001b[1;33m=\u001b[0m\u001b[0mcred\u001b[0m\u001b[1;33m.\u001b[0m\u001b[0mredirect_url\u001b[0m\u001b[1;33m,\u001b[0m \u001b[0mscope\u001b[0m\u001b[1;33m=\u001b[0m\u001b[0mscope\u001b[0m\u001b[1;33m)\u001b[0m\u001b[1;33m)\u001b[0m\u001b[1;33m\u001b[0m\u001b[1;33m\u001b[0m\u001b[0m\n\u001b[0;32m      7\u001b[0m \u001b[1;33m\u001b[0m\u001b[0m\n\u001b[1;32m----> 8\u001b[1;33m \u001b[0mresults\u001b[0m \u001b[1;33m=\u001b[0m \u001b[0msp\u001b[0m\u001b[1;33m.\u001b[0m\u001b[0mcurrent_user_recently_played\u001b[0m\u001b[1;33m(\u001b[0m\u001b[1;33m)\u001b[0m\u001b[1;33m\u001b[0m\u001b[1;33m\u001b[0m\u001b[0m\n\u001b[0m\u001b[0;32m      9\u001b[0m \u001b[1;32mfor\u001b[0m \u001b[0midx\u001b[0m\u001b[1;33m,\u001b[0m \u001b[0mitem\u001b[0m \u001b[1;32min\u001b[0m \u001b[0menumerate\u001b[0m\u001b[1;33m(\u001b[0m\u001b[0mresults\u001b[0m\u001b[1;33m[\u001b[0m\u001b[1;34m'items'\u001b[0m\u001b[1;33m]\u001b[0m\u001b[1;33m)\u001b[0m\u001b[1;33m:\u001b[0m\u001b[1;33m\u001b[0m\u001b[1;33m\u001b[0m\u001b[0m\n\u001b[0;32m     10\u001b[0m     \u001b[0mtrack\u001b[0m \u001b[1;33m=\u001b[0m \u001b[0mitem\u001b[0m\u001b[1;33m[\u001b[0m\u001b[1;34m'track'\u001b[0m\u001b[1;33m]\u001b[0m\u001b[1;33m\u001b[0m\u001b[1;33m\u001b[0m\u001b[0m\n",
      "\u001b[1;32m~\\anaconda3\\envs\\spotify_project\\lib\\site-packages\\spotipy\\client.py\u001b[0m in \u001b[0;36mcurrent_user_recently_played\u001b[1;34m(self, limit, after, before)\u001b[0m\n\u001b[0;32m   1436\u001b[0m                            \u001b[0mCannot\u001b[0m \u001b[0mbe\u001b[0m \u001b[0mused\u001b[0m \u001b[1;32mif\u001b[0m \u001b[0mafter\u001b[0m \u001b[1;32mis\u001b[0m \u001b[0mspecified\u001b[0m\u001b[1;33m\u001b[0m\u001b[1;33m\u001b[0m\u001b[0m\n\u001b[0;32m   1437\u001b[0m         \"\"\"\n\u001b[1;32m-> 1438\u001b[1;33m         return self._get(\n\u001b[0m\u001b[0;32m   1439\u001b[0m             \u001b[1;34m\"me/player/recently-played\"\u001b[0m\u001b[1;33m,\u001b[0m\u001b[1;33m\u001b[0m\u001b[1;33m\u001b[0m\u001b[0m\n\u001b[0;32m   1440\u001b[0m             \u001b[0mlimit\u001b[0m\u001b[1;33m=\u001b[0m\u001b[0mlimit\u001b[0m\u001b[1;33m,\u001b[0m\u001b[1;33m\u001b[0m\u001b[1;33m\u001b[0m\u001b[0m\n",
      "\u001b[1;32m~\\anaconda3\\envs\\spotify_project\\lib\\site-packages\\spotipy\\client.py\u001b[0m in \u001b[0;36m_get\u001b[1;34m(self, url, args, payload, **kwargs)\u001b[0m\n\u001b[0;32m    289\u001b[0m             \u001b[0mkwargs\u001b[0m\u001b[1;33m.\u001b[0m\u001b[0mupdate\u001b[0m\u001b[1;33m(\u001b[0m\u001b[0margs\u001b[0m\u001b[1;33m)\u001b[0m\u001b[1;33m\u001b[0m\u001b[1;33m\u001b[0m\u001b[0m\n\u001b[0;32m    290\u001b[0m \u001b[1;33m\u001b[0m\u001b[0m\n\u001b[1;32m--> 291\u001b[1;33m         \u001b[1;32mreturn\u001b[0m \u001b[0mself\u001b[0m\u001b[1;33m.\u001b[0m\u001b[0m_internal_call\u001b[0m\u001b[1;33m(\u001b[0m\u001b[1;34m\"GET\"\u001b[0m\u001b[1;33m,\u001b[0m \u001b[0murl\u001b[0m\u001b[1;33m,\u001b[0m \u001b[0mpayload\u001b[0m\u001b[1;33m,\u001b[0m \u001b[0mkwargs\u001b[0m\u001b[1;33m)\u001b[0m\u001b[1;33m\u001b[0m\u001b[1;33m\u001b[0m\u001b[0m\n\u001b[0m\u001b[0;32m    292\u001b[0m \u001b[1;33m\u001b[0m\u001b[0m\n\u001b[0;32m    293\u001b[0m     \u001b[1;32mdef\u001b[0m \u001b[0m_post\u001b[0m\u001b[1;33m(\u001b[0m\u001b[0mself\u001b[0m\u001b[1;33m,\u001b[0m \u001b[0murl\u001b[0m\u001b[1;33m,\u001b[0m \u001b[0margs\u001b[0m\u001b[1;33m=\u001b[0m\u001b[1;32mNone\u001b[0m\u001b[1;33m,\u001b[0m \u001b[0mpayload\u001b[0m\u001b[1;33m=\u001b[0m\u001b[1;32mNone\u001b[0m\u001b[1;33m,\u001b[0m \u001b[1;33m**\u001b[0m\u001b[0mkwargs\u001b[0m\u001b[1;33m)\u001b[0m\u001b[1;33m:\u001b[0m\u001b[1;33m\u001b[0m\u001b[1;33m\u001b[0m\u001b[0m\n",
      "\u001b[1;32m~\\anaconda3\\envs\\spotify_project\\lib\\site-packages\\spotipy\\client.py\u001b[0m in \u001b[0;36m_internal_call\u001b[1;34m(self, method, url, payload, params)\u001b[0m\n\u001b[0;32m    259\u001b[0m                          method, url, response.status_code, msg)\n\u001b[0;32m    260\u001b[0m \u001b[1;33m\u001b[0m\u001b[0m\n\u001b[1;32m--> 261\u001b[1;33m             raise SpotifyException(\n\u001b[0m\u001b[0;32m    262\u001b[0m                 \u001b[0mresponse\u001b[0m\u001b[1;33m.\u001b[0m\u001b[0mstatus_code\u001b[0m\u001b[1;33m,\u001b[0m\u001b[1;33m\u001b[0m\u001b[1;33m\u001b[0m\u001b[0m\n\u001b[0;32m    263\u001b[0m                 \u001b[1;33m-\u001b[0m\u001b[1;36m1\u001b[0m\u001b[1;33m,\u001b[0m\u001b[1;33m\u001b[0m\u001b[1;33m\u001b[0m\u001b[0m\n",
      "\u001b[1;31mSpotifyException\u001b[0m: http status: 403, code:-1 - https://api.spotify.com/v1/me/player/recently-played?limit=50:\n Insufficient client scope, reason: None"
     ]
    }
   ],
   "source": [
    "import spotipy\n",
    "from spotipy.oauth2 import SpotifyOAuth\n",
    "import cred\n",
    "scope = \"user-read-currently-playing\"\n",
    "\n",
    "sp = spotipy.Spotify(auth_manager=SpotifyOAuth(client_id=cred.client_ID, client_secret= cred.client_SECRET, redirect_uri=cred.redirect_url, scope=scope))\n",
    "\n",
    "results = sp.current_user_recently_played()\n",
    "for idx, item in enumerate(results['items']):\n",
    "    track = item['track']\n",
    "    print(idx, track['artists'][0]['name'], \" – \", track['name'])"
   ]
  },
  {
   "cell_type": "code",
   "execution_count": 49,
   "id": "8beb8b4f",
   "metadata": {},
   "outputs": [],
   "source": [
    "scope = 'user-read-currently-playing'"
   ]
  },
  {
   "cell_type": "code",
   "execution_count": 50,
   "id": "2137dc6a",
   "metadata": {},
   "outputs": [
    {
     "data": {
      "text/plain": [
       "{'display_name': 'Vincent Raia',\n",
       " 'external_urls': {'spotify': 'https://open.spotify.com/user/12130136554'},\n",
       " 'followers': {'href': None, 'total': 9},\n",
       " 'href': 'https://api.spotify.com/v1/users/12130136554',\n",
       " 'id': '12130136554',\n",
       " 'images': [{'height': None,\n",
       "   'url': 'https://scontent-ort2-2.xx.fbcdn.net/v/t1.6435-1/c0.53.320.320a/p320x320/39502601_2045329955478121_7146975663881191424_n.jpg?_nc_cat=110&ccb=1-3&_nc_sid=0c64ff&_nc_ohc=qSBAqKM4G8AAX97gDe-&_nc_oc=AQlIUiloowkQ7RwxiuBmDwwZ_EM9HLzBPH8MgI0IWu7ulzcd0PVvY26A9k_9KlstzLk&_nc_ht=scontent-ort2-2.xx&tp=27&oh=978602b409586045da90f2ef1f11df8b&oe=60E2C35E',\n",
       "   'width': None}],\n",
       " 'type': 'user',\n",
       " 'uri': 'spotify:user:12130136554'}"
      ]
     },
     "execution_count": 50,
     "metadata": {},
     "output_type": "execute_result"
    }
   ],
   "source": [
    "sp.current_user()"
   ]
  },
  {
   "cell_type": "code",
   "execution_count": 99,
   "id": "29ac8f29",
   "metadata": {
    "scrolled": true
   },
   "outputs": [
    {
     "name": "stdout",
     "output_type": "stream",
     "text": [
      "{'timestamp': 1623013248384, 'context': {'external_urls': {'spotify': 'https://open.spotify.com/playlist/4rkLcybfYxMtPFPToQYiS2'}, 'href': 'https://api.spotify.com/v1/playlists/4rkLcybfYxMtPFPToQYiS2', 'type': 'playlist', 'uri': 'spotify:user:tabothebest:playlist:4rkLcybfYxMtPFPToQYiS2'}, 'progress_ms': 144642, 'item': {'album': {'album_type': 'single', 'artists': [{'external_urls': {'spotify': 'https://open.spotify.com/artist/2qxJFvFYMEDqd7ui6kSAcq'}, 'href': 'https://api.spotify.com/v1/artists/2qxJFvFYMEDqd7ui6kSAcq', 'id': '2qxJFvFYMEDqd7ui6kSAcq', 'name': 'Zedd', 'type': 'artist', 'uri': 'spotify:artist:2qxJFvFYMEDqd7ui6kSAcq'}, {'external_urls': {'spotify': 'https://open.spotify.com/artist/6WY7D3jk8zTrHtmkqqo5GI'}, 'href': 'https://api.spotify.com/v1/artists/6WY7D3jk8zTrHtmkqqo5GI', 'id': '6WY7D3jk8zTrHtmkqqo5GI', 'name': 'Maren Morris', 'type': 'artist', 'uri': 'spotify:artist:6WY7D3jk8zTrHtmkqqo5GI'}, {'external_urls': {'spotify': 'https://open.spotify.com/artist/4lDBihdpMlOalxy1jkUbPl'}, 'href': 'https://api.spotify.com/v1/artists/4lDBihdpMlOalxy1jkUbPl', 'id': '4lDBihdpMlOalxy1jkUbPl', 'name': 'Grey', 'type': 'artist', 'uri': 'spotify:artist:4lDBihdpMlOalxy1jkUbPl'}], 'available_markets': ['AD', 'AE', 'AG', 'AL', 'AM', 'AO', 'AR', 'AT', 'AU', 'AZ', 'BA', 'BB', 'BD', 'BE', 'BF', 'BG', 'BH', 'BI', 'BJ', 'BN', 'BO', 'BR', 'BS', 'BT', 'BW', 'BY', 'BZ', 'CA', 'CH', 'CI', 'CL', 'CM', 'CO', 'CR', 'CV', 'CW', 'CY', 'CZ', 'DE', 'DJ', 'DK', 'DM', 'DO', 'DZ', 'EC', 'EE', 'EG', 'ES', 'FI', 'FJ', 'FM', 'FR', 'GA', 'GB', 'GD', 'GE', 'GH', 'GM', 'GN', 'GQ', 'GR', 'GT', 'GW', 'GY', 'HK', 'HN', 'HR', 'HT', 'HU', 'ID', 'IE', 'IL', 'IN', 'IS', 'IT', 'JM', 'JO', 'JP', 'KE', 'KG', 'KH', 'KI', 'KM', 'KN', 'KR', 'KW', 'KZ', 'LA', 'LB', 'LC', 'LI', 'LK', 'LR', 'LS', 'LT', 'LU', 'LV', 'MA', 'MC', 'MD', 'ME', 'MG', 'MH', 'MK', 'ML', 'MN', 'MO', 'MR', 'MT', 'MU', 'MV', 'MW', 'MX', 'MY', 'MZ', 'NA', 'NE', 'NG', 'NI', 'NL', 'NO', 'NP', 'NR', 'NZ', 'OM', 'PA', 'PE', 'PG', 'PH', 'PK', 'PL', 'PS', 'PT', 'PW', 'PY', 'QA', 'RO', 'RS', 'RU', 'RW', 'SA', 'SB', 'SC', 'SE', 'SG', 'SI', 'SK', 'SL', 'SM', 'SN', 'SR', 'ST', 'SV', 'SZ', 'TD', 'TG', 'TH', 'TL', 'TN', 'TO', 'TR', 'TT', 'TV', 'TW', 'TZ', 'UA', 'UG', 'US', 'UY', 'UZ', 'VC', 'VN', 'VU', 'WS', 'XK', 'ZA', 'ZM', 'ZW'], 'external_urls': {'spotify': 'https://open.spotify.com/album/7nEiwcUSwycvC77kZ9ub7c'}, 'href': 'https://api.spotify.com/v1/albums/7nEiwcUSwycvC77kZ9ub7c', 'id': '7nEiwcUSwycvC77kZ9ub7c', 'images': [{'height': 640, 'url': 'https://i.scdn.co/image/ab67616d0000b273fbe22d168a743b782a5e856a', 'width': 640}, {'height': 300, 'url': 'https://i.scdn.co/image/ab67616d00001e02fbe22d168a743b782a5e856a', 'width': 300}, {'height': 64, 'url': 'https://i.scdn.co/image/ab67616d00004851fbe22d168a743b782a5e856a', 'width': 64}], 'name': 'The Middle', 'release_date': '2018-01-23', 'release_date_precision': 'day', 'total_tracks': 1, 'type': 'album', 'uri': 'spotify:album:7nEiwcUSwycvC77kZ9ub7c'}, 'artists': [{'external_urls': {'spotify': 'https://open.spotify.com/artist/2qxJFvFYMEDqd7ui6kSAcq'}, 'href': 'https://api.spotify.com/v1/artists/2qxJFvFYMEDqd7ui6kSAcq', 'id': '2qxJFvFYMEDqd7ui6kSAcq', 'name': 'Zedd', 'type': 'artist', 'uri': 'spotify:artist:2qxJFvFYMEDqd7ui6kSAcq'}, {'external_urls': {'spotify': 'https://open.spotify.com/artist/6WY7D3jk8zTrHtmkqqo5GI'}, 'href': 'https://api.spotify.com/v1/artists/6WY7D3jk8zTrHtmkqqo5GI', 'id': '6WY7D3jk8zTrHtmkqqo5GI', 'name': 'Maren Morris', 'type': 'artist', 'uri': 'spotify:artist:6WY7D3jk8zTrHtmkqqo5GI'}, {'external_urls': {'spotify': 'https://open.spotify.com/artist/4lDBihdpMlOalxy1jkUbPl'}, 'href': 'https://api.spotify.com/v1/artists/4lDBihdpMlOalxy1jkUbPl', 'id': '4lDBihdpMlOalxy1jkUbPl', 'name': 'Grey', 'type': 'artist', 'uri': 'spotify:artist:4lDBihdpMlOalxy1jkUbPl'}], 'available_markets': ['AD', 'AE', 'AG', 'AL', 'AM', 'AO', 'AR', 'AT', 'AU', 'AZ', 'BA', 'BB', 'BD', 'BE', 'BF', 'BG', 'BH', 'BI', 'BJ', 'BN', 'BO', 'BR', 'BS', 'BT', 'BW', 'BY', 'BZ', 'CA', 'CH', 'CI', 'CL', 'CM', 'CO', 'CR', 'CV', 'CW', 'CY', 'CZ', 'DE', 'DJ', 'DK', 'DM', 'DO', 'DZ', 'EC', 'EE', 'EG', 'ES', 'FI', 'FJ', 'FM', 'FR', 'GA', 'GB', 'GD', 'GE', 'GH', 'GM', 'GN', 'GQ', 'GR', 'GT', 'GW', 'GY', 'HK', 'HN', 'HR', 'HT', 'HU', 'ID', 'IE', 'IL', 'IN', 'IS', 'IT', 'JM', 'JO', 'JP', 'KE', 'KG', 'KH', 'KI', 'KM', 'KN', 'KR', 'KW', 'KZ', 'LA', 'LB', 'LC', 'LI', 'LK', 'LR', 'LS', 'LT', 'LU', 'LV', 'MA', 'MC', 'MD', 'ME', 'MG', 'MH', 'MK', 'ML', 'MN', 'MO', 'MR', 'MT', 'MU', 'MV', 'MW', 'MX', 'MY', 'MZ', 'NA', 'NE', 'NG', 'NI', 'NL', 'NO', 'NP', 'NR', 'NZ', 'OM', 'PA', 'PE', 'PG', 'PH', 'PK', 'PL', 'PS', 'PT', 'PW', 'PY', 'QA', 'RO', 'RS', 'RU', 'RW', 'SA', 'SB', 'SC', 'SE', 'SG', 'SI', 'SK', 'SL', 'SM', 'SN', 'SR', 'ST', 'SV', 'SZ', 'TD', 'TG', 'TH', 'TL', 'TN', 'TO', 'TR', 'TT', 'TV', 'TW', 'TZ', 'UA', 'UG', 'US', 'UY', 'UZ', 'VC', 'VN', 'VU', 'WS', 'XK', 'ZA', 'ZM', 'ZW'], 'disc_number': 1, 'duration_ms': 184732, 'explicit': False, 'external_ids': {'isrc': 'USUM71800463'}, 'external_urls': {'spotify': 'https://open.spotify.com/track/09IStsImFySgyp0pIQdqAc'}, 'href': 'https://api.spotify.com/v1/tracks/09IStsImFySgyp0pIQdqAc', 'id': '09IStsImFySgyp0pIQdqAc', 'is_local': False, 'name': 'The Middle', 'popularity': 82, 'preview_url': 'https://p.scdn.co/mp3-preview/07f1f752d497dd82cd29a53a1b4a3c69fe62148c?cid=8a0360aa159642c48a921dfbe1568f8a', 'track_number': 1, 'type': 'track', 'uri': 'spotify:track:09IStsImFySgyp0pIQdqAc'}, 'currently_playing_type': 'track', 'actions': {'disallows': {'resuming': True}}, 'is_playing': True}\n"
     ]
    }
   ],
   "source": [
    "current = sp.current_user_playing_track()\n",
    "print(current)"
   ]
  },
  {
   "cell_type": "code",
   "execution_count": 100,
   "id": "e955d65f",
   "metadata": {},
   "outputs": [
    {
     "name": "stdout",
     "output_type": "stream",
     "text": [
      "The Middle\n"
     ]
    }
   ],
   "source": [
    "song = current.get('item').get('album').get('name')\n",
    "print(song)"
   ]
  },
  {
   "cell_type": "code",
   "execution_count": 101,
   "id": "f2dd8797",
   "metadata": {},
   "outputs": [
    {
     "name": "stdout",
     "output_type": "stream",
     "text": [
      "Zedd\n"
     ]
    }
   ],
   "source": [
    "artist_list = current.get('item').get('album').get('artists')\n",
    "artist_dict = artist_list[0]\n",
    "# print(artist_dict)\n",
    "artist = artist_dict.get('name')\n",
    "print(artist)"
   ]
  },
  {
   "cell_type": "code",
   "execution_count": 81,
   "id": "2773e53c",
   "metadata": {},
   "outputs": [
    {
     "name": "stdout",
     "output_type": "stream",
     "text": [
      "timestamp  :  1623012851688 \n",
      "\n",
      "context  :  {'external_urls': {'spotify': 'https://open.spotify.com/playlist/4rkLcybfYxMtPFPToQYiS2'}, 'href': 'https://api.spotify.com/v1/playlists/4rkLcybfYxMtPFPToQYiS2', 'type': 'playlist', 'uri': 'spotify:user:tabothebest:playlist:4rkLcybfYxMtPFPToQYiS2'} \n",
      "\n",
      "progress_ms  :  37520 \n",
      "\n",
      "item  :  {'album': {'album_type': 'single', 'artists': [{'external_urls': {'spotify': 'https://open.spotify.com/artist/1OXFVdNx1BX2z7LuKpJyBW'}, 'href': 'https://api.spotify.com/v1/artists/1OXFVdNx1BX2z7LuKpJyBW', 'id': '1OXFVdNx1BX2z7LuKpJyBW', 'name': 'Cristian Marchi', 'type': 'artist', 'uri': 'spotify:artist:1OXFVdNx1BX2z7LuKpJyBW'}], 'available_markets': ['AD', 'AE', 'AG', 'AL', 'AM', 'AO', 'AR', 'AT', 'AU', 'AZ', 'BA', 'BB', 'BD', 'BE', 'BF', 'BG', 'BH', 'BI', 'BJ', 'BN', 'BO', 'BR', 'BS', 'BT', 'BW', 'BY', 'BZ', 'CA', 'CH', 'CI', 'CL', 'CM', 'CO', 'CR', 'CV', 'CW', 'CY', 'CZ', 'DE', 'DJ', 'DK', 'DM', 'DO', 'DZ', 'EC', 'EE', 'EG', 'ES', 'FI', 'FJ', 'FM', 'FR', 'GA', 'GB', 'GD', 'GE', 'GH', 'GM', 'GN', 'GQ', 'GR', 'GT', 'GW', 'GY', 'HK', 'HN', 'HR', 'HT', 'HU', 'ID', 'IE', 'IL', 'IN', 'IS', 'IT', 'JM', 'JO', 'JP', 'KE', 'KG', 'KH', 'KI', 'KM', 'KN', 'KR', 'KW', 'KZ', 'LA', 'LB', 'LC', 'LI', 'LK', 'LR', 'LS', 'LT', 'LU', 'LV', 'MA', 'MC', 'MD', 'ME', 'MG', 'MH', 'MK', 'ML', 'MN', 'MO', 'MR', 'MT', 'MU', 'MV', 'MW', 'MX', 'MY', 'MZ', 'NA', 'NE', 'NG', 'NI', 'NL', 'NO', 'NP', 'NR', 'NZ', 'OM', 'PA', 'PE', 'PG', 'PH', 'PK', 'PL', 'PS', 'PT', 'PW', 'PY', 'QA', 'RO', 'RS', 'RU', 'RW', 'SA', 'SB', 'SC', 'SE', 'SG', 'SI', 'SK', 'SL', 'SM', 'SN', 'SR', 'ST', 'SV', 'SZ', 'TD', 'TG', 'TH', 'TL', 'TN', 'TO', 'TR', 'TT', 'TV', 'TW', 'TZ', 'UA', 'UG', 'US', 'UY', 'UZ', 'VC', 'VN', 'VU', 'WS', 'XK', 'ZA', 'ZM', 'ZW'], 'external_urls': {'spotify': 'https://open.spotify.com/album/3a0peAMgnZeZjQt44Yz4Cd'}, 'href': 'https://api.spotify.com/v1/albums/3a0peAMgnZeZjQt44Yz4Cd', 'id': '3a0peAMgnZeZjQt44Yz4Cd', 'images': [{'height': 640, 'url': 'https://i.scdn.co/image/ab67616d0000b27381116b690946cc56011843e7', 'width': 640}, {'height': 300, 'url': 'https://i.scdn.co/image/ab67616d00001e0281116b690946cc56011843e7', 'width': 300}, {'height': 64, 'url': 'https://i.scdn.co/image/ab67616d0000485181116b690946cc56011843e7', 'width': 64}], 'name': \"Let's Fuck\", 'release_date': '2013-05-03', 'release_date_precision': 'day', 'total_tracks': 3, 'type': 'album', 'uri': 'spotify:album:3a0peAMgnZeZjQt44Yz4Cd'}, 'artists': [{'external_urls': {'spotify': 'https://open.spotify.com/artist/1OXFVdNx1BX2z7LuKpJyBW'}, 'href': 'https://api.spotify.com/v1/artists/1OXFVdNx1BX2z7LuKpJyBW', 'id': '1OXFVdNx1BX2z7LuKpJyBW', 'name': 'Cristian Marchi', 'type': 'artist', 'uri': 'spotify:artist:1OXFVdNx1BX2z7LuKpJyBW'}, {'external_urls': {'spotify': 'https://open.spotify.com/artist/5U1SD4dkb35G7e1JVdqkWJ'}, 'href': 'https://api.spotify.com/v1/artists/5U1SD4dkb35G7e1JVdqkWJ', 'id': '5U1SD4dkb35G7e1JVdqkWJ', 'name': 'Max C', 'type': 'artist', 'uri': 'spotify:artist:5U1SD4dkb35G7e1JVdqkWJ'}], 'available_markets': ['AD', 'AE', 'AG', 'AL', 'AM', 'AO', 'AR', 'AT', 'AU', 'AZ', 'BA', 'BB', 'BD', 'BE', 'BF', 'BG', 'BH', 'BI', 'BJ', 'BN', 'BO', 'BR', 'BS', 'BT', 'BW', 'BY', 'BZ', 'CA', 'CH', 'CI', 'CL', 'CM', 'CO', 'CR', 'CV', 'CW', 'CY', 'CZ', 'DE', 'DJ', 'DK', 'DM', 'DO', 'DZ', 'EC', 'EE', 'EG', 'ES', 'FI', 'FJ', 'FM', 'FR', 'GA', 'GB', 'GD', 'GE', 'GH', 'GM', 'GN', 'GQ', 'GR', 'GT', 'GW', 'GY', 'HK', 'HN', 'HR', 'HT', 'HU', 'ID', 'IE', 'IL', 'IN', 'IS', 'IT', 'JM', 'JO', 'JP', 'KE', 'KG', 'KH', 'KI', 'KM', 'KN', 'KR', 'KW', 'KZ', 'LA', 'LB', 'LC', 'LI', 'LK', 'LR', 'LS', 'LT', 'LU', 'LV', 'MA', 'MC', 'MD', 'ME', 'MG', 'MH', 'MK', 'ML', 'MN', 'MO', 'MR', 'MT', 'MU', 'MV', 'MW', 'MX', 'MY', 'MZ', 'NA', 'NE', 'NG', 'NI', 'NL', 'NO', 'NP', 'NR', 'NZ', 'OM', 'PA', 'PE', 'PG', 'PH', 'PK', 'PL', 'PS', 'PT', 'PW', 'PY', 'QA', 'RO', 'RS', 'RU', 'RW', 'SA', 'SB', 'SC', 'SE', 'SG', 'SI', 'SK', 'SL', 'SM', 'SN', 'SR', 'ST', 'SV', 'SZ', 'TD', 'TG', 'TH', 'TL', 'TN', 'TO', 'TR', 'TT', 'TV', 'TW', 'TZ', 'UA', 'UG', 'US', 'UY', 'UZ', 'VC', 'VN', 'VU', 'WS', 'XK', 'ZA', 'ZM', 'ZW'], 'disc_number': 1, 'duration_ms': 182812, 'explicit': True, 'external_ids': {'isrc': 'ITL011300113'}, 'external_urls': {'spotify': 'https://open.spotify.com/track/1SsqH9omx995cFYKAq1r7F'}, 'href': 'https://api.spotify.com/v1/tracks/1SsqH9omx995cFYKAq1r7F', 'id': '1SsqH9omx995cFYKAq1r7F', 'is_local': False, 'name': \"Let's Fuck - Cristian Marchi Perfect Edit\", 'popularity': 35, 'preview_url': 'https://p.scdn.co/mp3-preview/2818f5f530de52c5fd2a2d01f8d478da10dce9af?cid=8a0360aa159642c48a921dfbe1568f8a', 'track_number': 1, 'type': 'track', 'uri': 'spotify:track:1SsqH9omx995cFYKAq1r7F'} \n",
      "\n",
      "currently_playing_type  :  track \n",
      "\n",
      "actions  :  {'disallows': {'resuming': True}} \n",
      "\n",
      "is_playing  :  True \n",
      "\n"
     ]
    }
   ],
   "source": [
    "for key, value in current.items():\n",
    "    print(key, ' : ', value, '\\n')"
   ]
  },
  {
   "cell_type": "code",
   "execution_count": null,
   "id": "b86e9bb5",
   "metadata": {},
   "outputs": [],
   "source": []
  }
 ],
 "metadata": {
  "kernelspec": {
   "display_name": "Python 3",
   "language": "python",
   "name": "python3"
  },
  "language_info": {
   "codemirror_mode": {
    "name": "ipython",
    "version": 3
   },
   "file_extension": ".py",
   "mimetype": "text/x-python",
   "name": "python",
   "nbconvert_exporter": "python",
   "pygments_lexer": "ipython3",
   "version": "3.8.10"
  }
 },
 "nbformat": 4,
 "nbformat_minor": 5
}
